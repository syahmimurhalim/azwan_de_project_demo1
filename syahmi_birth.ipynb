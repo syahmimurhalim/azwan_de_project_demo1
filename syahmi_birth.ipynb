{
 "cells": [
  {
   "cell_type": "code",
   "execution_count": 29,
   "metadata": {},
   "outputs": [],
   "source": [
    "import pandas as pd"
   ]
  },
  {
   "cell_type": "code",
   "execution_count": 90,
   "metadata": {},
   "outputs": [
    {
     "name": "stdout",
     "output_type": "stream",
     "text": [
      "         date     state  births\n",
      "0  1920-01-01  Malaysia      96\n",
      "1  1920-01-02  Malaysia     115\n",
      "2  1920-01-03  Malaysia     111\n",
      "3  1920-01-04  Malaysia     101\n",
      "4  1920-01-05  Malaysia      95\n"
     ]
    }
   ],
   "source": [
    "# The data source is from Malaysia DOSM (https://data.gov.my/data-catalogue/births)\n",
    "URL_DATA = 'https://storage.data.gov.my/demography/births.parquet'\n",
    "\n",
    "# Extract data from source\n",
    "df = pd.read_parquet(URL_DATA)\n",
    "\n",
    "print(df.head())"
   ]
  },
  {
   "cell_type": "code",
   "execution_count": 136,
   "metadata": {},
   "outputs": [
    {
     "data": {
      "text/html": [
       "<div>\n",
       "<style scoped>\n",
       "    .dataframe tbody tr th:only-of-type {\n",
       "        vertical-align: middle;\n",
       "    }\n",
       "\n",
       "    .dataframe tbody tr th {\n",
       "        vertical-align: top;\n",
       "    }\n",
       "\n",
       "    .dataframe thead th {\n",
       "        text-align: right;\n",
       "    }\n",
       "</style>\n",
       "<table border=\"1\" class=\"dataframe\">\n",
       "  <thead>\n",
       "    <tr style=\"text-align: right;\">\n",
       "      <th></th>\n",
       "      <th>date</th>\n",
       "      <th>state</th>\n",
       "      <th>births</th>\n",
       "      <th>month_name</th>\n",
       "    </tr>\n",
       "  </thead>\n",
       "  <tbody>\n",
       "    <tr>\n",
       "      <th>37828</th>\n",
       "      <td>2023-07-27</td>\n",
       "      <td>Malaysia</td>\n",
       "      <td>1199</td>\n",
       "      <td>July</td>\n",
       "    </tr>\n",
       "    <tr>\n",
       "      <th>37829</th>\n",
       "      <td>2023-07-28</td>\n",
       "      <td>Malaysia</td>\n",
       "      <td>1220</td>\n",
       "      <td>July</td>\n",
       "    </tr>\n",
       "    <tr>\n",
       "      <th>37830</th>\n",
       "      <td>2023-07-29</td>\n",
       "      <td>Malaysia</td>\n",
       "      <td>927</td>\n",
       "      <td>July</td>\n",
       "    </tr>\n",
       "    <tr>\n",
       "      <th>37831</th>\n",
       "      <td>2023-07-30</td>\n",
       "      <td>Malaysia</td>\n",
       "      <td>938</td>\n",
       "      <td>July</td>\n",
       "    </tr>\n",
       "    <tr>\n",
       "      <th>37832</th>\n",
       "      <td>2023-07-31</td>\n",
       "      <td>Malaysia</td>\n",
       "      <td>1098</td>\n",
       "      <td>July</td>\n",
       "    </tr>\n",
       "  </tbody>\n",
       "</table>\n",
       "</div>"
      ],
      "text/plain": [
       "            date     state  births month_name\n",
       "37828 2023-07-27  Malaysia    1199       July\n",
       "37829 2023-07-28  Malaysia    1220       July\n",
       "37830 2023-07-29  Malaysia     927       July\n",
       "37831 2023-07-30  Malaysia     938       July\n",
       "37832 2023-07-31  Malaysia    1098       July"
      ]
     },
     "execution_count": 136,
     "metadata": {},
     "output_type": "execute_result"
    }
   ],
   "source": [
    "df.head()\n",
    "df.tail()"
   ]
  },
  {
   "cell_type": "code",
   "execution_count": 137,
   "metadata": {},
   "outputs": [
    {
     "name": "stdout",
     "output_type": "stream",
     "text": [
      "<class 'pandas.core.frame.DataFrame'>\n",
      "RangeIndex: 37833 entries, 0 to 37832\n",
      "Data columns (total 4 columns):\n",
      " #   Column      Non-Null Count  Dtype         \n",
      "---  ------      --------------  -----         \n",
      " 0   date        37833 non-null  datetime64[ns]\n",
      " 1   state       37833 non-null  object        \n",
      " 2   births      37833 non-null  int64         \n",
      " 3   month_name  37833 non-null  object        \n",
      "dtypes: datetime64[ns](1), int64(1), object(2)\n",
      "memory usage: 1.2+ MB\n"
     ]
    }
   ],
   "source": [
    "df.info()"
   ]
  },
  {
   "cell_type": "code",
   "execution_count": 93,
   "metadata": {},
   "outputs": [],
   "source": [
    "# Task 1: Based on the lesson learned previously, convert the \"DATE\" column data type into datetime format\n",
    "df['date']= pd.to_datetime(df['date'],format= '%m/%d/%Y %I:%M:%S %p')"
   ]
  },
  {
   "cell_type": "code",
   "execution_count": 94,
   "metadata": {},
   "outputs": [
    {
     "name": "stdout",
     "output_type": "stream",
     "text": [
      "<class 'pandas.core.frame.DataFrame'>\n",
      "RangeIndex: 37833 entries, 0 to 37832\n",
      "Data columns (total 3 columns):\n",
      " #   Column  Non-Null Count  Dtype         \n",
      "---  ------  --------------  -----         \n",
      " 0   date    37833 non-null  datetime64[ns]\n",
      " 1   state   37833 non-null  object        \n",
      " 2   births  37833 non-null  int64         \n",
      "dtypes: datetime64[ns](1), int64(1), object(1)\n",
      "memory usage: 886.8+ KB\n"
     ]
    }
   ],
   "source": [
    "df.head()\n",
    "df.info()"
   ]
  },
  {
   "cell_type": "code",
   "execution_count": 95,
   "metadata": {},
   "outputs": [
    {
     "data": {
      "text/plain": [
       "0        January\n",
       "1        January\n",
       "2        January\n",
       "3        January\n",
       "4        January\n",
       "          ...   \n",
       "37828       July\n",
       "37829       July\n",
       "37830       July\n",
       "37831       July\n",
       "37832       July\n",
       "Name: date, Length: 37833, dtype: object"
      ]
     },
     "execution_count": 95,
     "metadata": {},
     "output_type": "execute_result"
    }
   ],
   "source": [
    "df['date'].dt.month_name()"
   ]
  },
  {
   "cell_type": "code",
   "execution_count": 97,
   "metadata": {},
   "outputs": [],
   "source": [
    "df['month_name']= df['date'].dt.month_name()"
   ]
  },
  {
   "cell_type": "code",
   "execution_count": 98,
   "metadata": {},
   "outputs": [
    {
     "data": {
      "text/html": [
       "<div>\n",
       "<style scoped>\n",
       "    .dataframe tbody tr th:only-of-type {\n",
       "        vertical-align: middle;\n",
       "    }\n",
       "\n",
       "    .dataframe tbody tr th {\n",
       "        vertical-align: top;\n",
       "    }\n",
       "\n",
       "    .dataframe thead th {\n",
       "        text-align: right;\n",
       "    }\n",
       "</style>\n",
       "<table border=\"1\" class=\"dataframe\">\n",
       "  <thead>\n",
       "    <tr style=\"text-align: right;\">\n",
       "      <th></th>\n",
       "      <th>date</th>\n",
       "      <th>state</th>\n",
       "      <th>births</th>\n",
       "      <th>month_name</th>\n",
       "    </tr>\n",
       "  </thead>\n",
       "  <tbody>\n",
       "    <tr>\n",
       "      <th>0</th>\n",
       "      <td>1920-01-01</td>\n",
       "      <td>Malaysia</td>\n",
       "      <td>96</td>\n",
       "      <td>January</td>\n",
       "    </tr>\n",
       "    <tr>\n",
       "      <th>1</th>\n",
       "      <td>1920-01-02</td>\n",
       "      <td>Malaysia</td>\n",
       "      <td>115</td>\n",
       "      <td>January</td>\n",
       "    </tr>\n",
       "    <tr>\n",
       "      <th>2</th>\n",
       "      <td>1920-01-03</td>\n",
       "      <td>Malaysia</td>\n",
       "      <td>111</td>\n",
       "      <td>January</td>\n",
       "    </tr>\n",
       "    <tr>\n",
       "      <th>3</th>\n",
       "      <td>1920-01-04</td>\n",
       "      <td>Malaysia</td>\n",
       "      <td>101</td>\n",
       "      <td>January</td>\n",
       "    </tr>\n",
       "    <tr>\n",
       "      <th>4</th>\n",
       "      <td>1920-01-05</td>\n",
       "      <td>Malaysia</td>\n",
       "      <td>95</td>\n",
       "      <td>January</td>\n",
       "    </tr>\n",
       "  </tbody>\n",
       "</table>\n",
       "</div>"
      ],
      "text/plain": [
       "        date     state  births month_name\n",
       "0 1920-01-01  Malaysia      96    January\n",
       "1 1920-01-02  Malaysia     115    January\n",
       "2 1920-01-03  Malaysia     111    January\n",
       "3 1920-01-04  Malaysia     101    January\n",
       "4 1920-01-05  Malaysia      95    January"
      ]
     },
     "execution_count": 98,
     "metadata": {},
     "output_type": "execute_result"
    }
   ],
   "source": [
    "df.head()"
   ]
  },
  {
   "cell_type": "code",
   "execution_count": 135,
   "metadata": {},
   "outputs": [
    {
     "data": {
      "text/html": [
       "<div>\n",
       "<style scoped>\n",
       "    .dataframe tbody tr th:only-of-type {\n",
       "        vertical-align: middle;\n",
       "    }\n",
       "\n",
       "    .dataframe tbody tr th {\n",
       "        vertical-align: top;\n",
       "    }\n",
       "\n",
       "    .dataframe thead th {\n",
       "        text-align: right;\n",
       "    }\n",
       "</style>\n",
       "<table border=\"1\" class=\"dataframe\">\n",
       "  <thead>\n",
       "    <tr style=\"text-align: right;\">\n",
       "      <th></th>\n",
       "      <th>date</th>\n",
       "      <th>state</th>\n",
       "      <th>births</th>\n",
       "      <th>month_name</th>\n",
       "    </tr>\n",
       "  </thead>\n",
       "  <tbody>\n",
       "    <tr>\n",
       "      <th>30733</th>\n",
       "      <td>2004-02-22</td>\n",
       "      <td>Malaysia</td>\n",
       "      <td>1235</td>\n",
       "      <td>February</td>\n",
       "    </tr>\n",
       "    <tr>\n",
       "      <th>32585</th>\n",
       "      <td>2009-03-19</td>\n",
       "      <td>Malaysia</td>\n",
       "      <td>1543</td>\n",
       "      <td>March</td>\n",
       "    </tr>\n",
       "    <tr>\n",
       "      <th>12095</th>\n",
       "      <td>1953-02-11</td>\n",
       "      <td>Malaysia</td>\n",
       "      <td>580</td>\n",
       "      <td>February</td>\n",
       "    </tr>\n",
       "    <tr>\n",
       "      <th>15585</th>\n",
       "      <td>1962-09-02</td>\n",
       "      <td>Malaysia</td>\n",
       "      <td>1007</td>\n",
       "      <td>September</td>\n",
       "    </tr>\n",
       "    <tr>\n",
       "      <th>35741</th>\n",
       "      <td>2017-11-08</td>\n",
       "      <td>Malaysia</td>\n",
       "      <td>1562</td>\n",
       "      <td>November</td>\n",
       "    </tr>\n",
       "    <tr>\n",
       "      <th>6005</th>\n",
       "      <td>1936-06-10</td>\n",
       "      <td>Malaysia</td>\n",
       "      <td>357</td>\n",
       "      <td>June</td>\n",
       "    </tr>\n",
       "    <tr>\n",
       "      <th>663</th>\n",
       "      <td>1921-10-25</td>\n",
       "      <td>Malaysia</td>\n",
       "      <td>113</td>\n",
       "      <td>October</td>\n",
       "    </tr>\n",
       "  </tbody>\n",
       "</table>\n",
       "</div>"
      ],
      "text/plain": [
       "            date     state  births month_name\n",
       "30733 2004-02-22  Malaysia    1235   February\n",
       "32585 2009-03-19  Malaysia    1543      March\n",
       "12095 1953-02-11  Malaysia     580   February\n",
       "15585 1962-09-02  Malaysia    1007  September\n",
       "35741 2017-11-08  Malaysia    1562   November\n",
       "6005  1936-06-10  Malaysia     357       June\n",
       "663   1921-10-25  Malaysia     113    October"
      ]
     },
     "execution_count": 135,
     "metadata": {},
     "output_type": "execute_result"
    }
   ],
   "source": [
    "df.sample(7)"
   ]
  },
  {
   "cell_type": "code",
   "execution_count": 126,
   "metadata": {},
   "outputs": [
    {
     "name": "stdout",
     "output_type": "stream",
     "text": [
      "month_name\n",
      "January      3224\n",
      "March        3224\n",
      "May          3224\n",
      "July         3224\n",
      "August       3193\n",
      "October      3193\n",
      "December     3193\n",
      "April        3120\n",
      "June         3120\n",
      "September    3090\n",
      "November     3090\n",
      "February     2938\n",
      "Name: count, dtype: int64\n"
     ]
    }
   ],
   "source": [
    "month_count= df['month_name'].value_counts()\n",
    "print(month_count)"
   ]
  },
  {
   "cell_type": "code",
   "execution_count": 160,
   "metadata": {},
   "outputs": [
    {
     "name": "stdout",
     "output_type": "stream",
     "text": [
      "<bound method Series.sum of 0        January\n",
      "1        January\n",
      "2        January\n",
      "3        January\n",
      "4        January\n",
      "          ...   \n",
      "37828       July\n",
      "37829       July\n",
      "37830       July\n",
      "37831       July\n",
      "37832       July\n",
      "Name: month_name, Length: 37833, dtype: object>\n"
     ]
    }
   ],
   "source": [
    "month_count= df['month_name'].sum\n",
    "print(month_count)"
   ]
  },
  {
   "cell_type": "code",
   "execution_count": 169,
   "metadata": {},
   "outputs": [],
   "source": [
    "df_new= df.groupby(['month_name']).agg(avg_birth=('births','mean'))\n"
   ]
  },
  {
   "cell_type": "code",
   "execution_count": 170,
   "metadata": {},
   "outputs": [
    {
     "data": {
      "text/html": [
       "<div>\n",
       "<style scoped>\n",
       "    .dataframe tbody tr th:only-of-type {\n",
       "        vertical-align: middle;\n",
       "    }\n",
       "\n",
       "    .dataframe tbody tr th {\n",
       "        vertical-align: top;\n",
       "    }\n",
       "\n",
       "    .dataframe thead th {\n",
       "        text-align: right;\n",
       "    }\n",
       "</style>\n",
       "<table border=\"1\" class=\"dataframe\">\n",
       "  <thead>\n",
       "    <tr style=\"text-align: right;\">\n",
       "      <th></th>\n",
       "      <th>avg_birth</th>\n",
       "    </tr>\n",
       "    <tr>\n",
       "      <th>month_name</th>\n",
       "      <th></th>\n",
       "    </tr>\n",
       "  </thead>\n",
       "  <tbody>\n",
       "    <tr>\n",
       "      <th>April</th>\n",
       "      <td>945.387500</td>\n",
       "    </tr>\n",
       "    <tr>\n",
       "      <th>August</th>\n",
       "      <td>951.493893</td>\n",
       "    </tr>\n",
       "    <tr>\n",
       "      <th>December</th>\n",
       "      <td>951.100846</td>\n",
       "    </tr>\n",
       "    <tr>\n",
       "      <th>February</th>\n",
       "      <td>904.976515</td>\n",
       "    </tr>\n",
       "    <tr>\n",
       "      <th>January</th>\n",
       "      <td>928.116935</td>\n",
       "    </tr>\n",
       "    <tr>\n",
       "      <th>July</th>\n",
       "      <td>946.085608</td>\n",
       "    </tr>\n",
       "    <tr>\n",
       "      <th>June</th>\n",
       "      <td>960.348718</td>\n",
       "    </tr>\n",
       "    <tr>\n",
       "      <th>March</th>\n",
       "      <td>926.428970</td>\n",
       "    </tr>\n",
       "    <tr>\n",
       "      <th>May</th>\n",
       "      <td>959.320099</td>\n",
       "    </tr>\n",
       "    <tr>\n",
       "      <th>November</th>\n",
       "      <td>963.218123</td>\n",
       "    </tr>\n",
       "    <tr>\n",
       "      <th>October</th>\n",
       "      <td>985.878171</td>\n",
       "    </tr>\n",
       "    <tr>\n",
       "      <th>September</th>\n",
       "      <td>981.742071</td>\n",
       "    </tr>\n",
       "  </tbody>\n",
       "</table>\n",
       "</div>"
      ],
      "text/plain": [
       "             avg_birth\n",
       "month_name            \n",
       "April       945.387500\n",
       "August      951.493893\n",
       "December    951.100846\n",
       "February    904.976515\n",
       "January     928.116935\n",
       "July        946.085608\n",
       "June        960.348718\n",
       "March       926.428970\n",
       "May         959.320099\n",
       "November    963.218123\n",
       "October     985.878171\n",
       "September   981.742071"
      ]
     },
     "execution_count": 170,
     "metadata": {},
     "output_type": "execute_result"
    }
   ],
   "source": [
    "df_new"
   ]
  },
  {
   "cell_type": "code",
   "execution_count": 172,
   "metadata": {},
   "outputs": [],
   "source": [
    "#df_new.to_csv('birth_transform1.csv', index=True)"
   ]
  },
  {
   "cell_type": "code",
   "execution_count": 174,
   "metadata": {},
   "outputs": [],
   "source": [
    "avg_births_month= df.groupby('month_name')['births'].mean().reset_index()"
   ]
  },
  {
   "cell_type": "code",
   "execution_count": 175,
   "metadata": {},
   "outputs": [
    {
     "name": "stdout",
     "output_type": "stream",
     "text": [
      "   month_name      births\n",
      "0       April  945.387500\n",
      "1      August  951.493893\n",
      "2    December  951.100846\n",
      "3    February  904.976515\n",
      "4     January  928.116935\n",
      "5        July  946.085608\n",
      "6        June  960.348718\n",
      "7       March  926.428970\n",
      "8         May  959.320099\n",
      "9    November  963.218123\n",
      "10    October  985.878171\n",
      "11  September  981.742071\n"
     ]
    }
   ],
   "source": [
    "print(avg_births_month)"
   ]
  },
  {
   "cell_type": "code",
   "execution_count": 177,
   "metadata": {},
   "outputs": [],
   "source": [
    "avg_births_month.to_csv('birth_transform2.csv', index=False)"
   ]
  },
  {
   "cell_type": "code",
   "execution_count": null,
   "metadata": {},
   "outputs": [],
   "source": [
    "# Task 2a: Extract the Month name (e.g. January/February/March etc) into another column called \"MONTH_NAME\"\n",
    "# Then get average of births aggregate/group by MONTH_NAME\n",
    "# The expected dataframe is something like this:\n",
    "\n",
    "# |----------------|-----------|\n",
    "# |MONTH_NAME      | AVG_BIRTH |\n",
    "# |----------------|-----------|\n",
    "# |JANUARY XXX     |           |\n",
    "# |FEBRUARY XXX    |           |\n",
    "# |MARCH XXX       |           |\n",
    "#   .....           \n",
    "\n",
    "...\n"
   ]
  },
  {
   "cell_type": "code",
   "execution_count": null,
   "metadata": {},
   "outputs": [],
   "source": []
  },
  {
   "cell_type": "code",
   "execution_count": null,
   "metadata": {},
   "outputs": [],
   "source": [
    "# Task 2b: Save the aggregated dataframe in task 2a above into CSV file without index (index=False) in the same folder as this file\n",
    "# The filename shall be your nickname + _avg_birth_by_month.csv\n",
    "# Example: azhar_avg_birth_by_month.csv\n",
    "# No space is allowed. But make sure your nickname is recognizable for evaluation.\n",
    "\n",
    "..."
   ]
  },
  {
   "cell_type": "code",
   "execution_count": 13,
   "metadata": {},
   "outputs": [],
   "source": [
    "# Task 3a: Create a dataframe to calculate average birth by the following generation group:\n",
    "# --> Silent Generation - from 1928 to 1945 included\n",
    "# --> Baby Boomers - from 1946 to 1964 included\n",
    "# --> Gen X - from 1965 to 1980 included\n",
    "# --> Gen Y - from 1981 to 1996 included\n",
    "# The expected dataframe is something like this:\n",
    "\n",
    "# |----------------|-----------|\n",
    "# |GENERATION      | AVG_BIRTH |\n",
    "# |----------------|-----------|\n",
    "# |Gen X           |           |\n",
    "# |Gen Y           |           |\n",
    "# ......\n",
    "\n",
    "# Hint: Use for-loop and if/else\n",
    "\n",
    "..."
   ]
  },
  {
   "cell_type": "code",
   "execution_count": 211,
   "metadata": {},
   "outputs": [],
   "source": [
    "generation_groups = {\n",
    "    'Silent Generation': [],\n",
    "    'Baby Boomers': [],\n",
    "    'Gen X': [],\n",
    "    'Gen Y': []}"
   ]
  },
  {
   "cell_type": "code",
   "execution_count": 212,
   "metadata": {},
   "outputs": [],
   "source": [
    "for index, row in df.iterrows():\n",
    "    if row['date'].year >= 1928 and row['date'].year <= 1945:\n",
    "        generation_groups['Silent Generation'].append(row['births'])\n",
    "    elif row['date'].year >= 1946 and row['date'].year <= 1964:\n",
    "        generation_groups['Baby Boomers'].append(row['births'])\n",
    "    elif row['date'].year >= 1965 and row['date'].year <= 1980:\n",
    "        generation_groups['Gen X'].append(row['births'])\n",
    "    elif row['date'].year >= 1981 and row['date'].year <= 1996:\n",
    "        generation_groups['Gen Y'].append(row['births'])\n"
   ]
  },
  {
   "cell_type": "code",
   "execution_count": 213,
   "metadata": {},
   "outputs": [],
   "source": [
    "average_births_by_generation = {}\n",
    "for generation, births in generation_groups.items():\n",
    "    average_births_by_generation[generation] = sum(births) / len(births) if births else 0"
   ]
  },
  {
   "cell_type": "code",
   "execution_count": 215,
   "metadata": {},
   "outputs": [
    {
     "name": "stdout",
     "output_type": "stream",
     "text": [
      "          generation    avg_birth\n",
      "0  Silent Generation   319.764259\n",
      "1       Baby Boomers   764.404899\n",
      "2              Gen X  1057.826318\n",
      "3              Gen Y  1417.433778\n"
     ]
    }
   ],
   "source": [
    "average_births_df = pd.DataFrame(list(average_births_by_generation.items()), columns=['generation', 'avg_birth'])\n",
    "\n",
    "print(average_births_df)"
   ]
  },
  {
   "cell_type": "code",
   "execution_count": 216,
   "metadata": {},
   "outputs": [],
   "source": [
    "average_births_df.to_csv('birth_transform3.csv', index=False)"
   ]
  },
  {
   "cell_type": "code",
   "execution_count": 14,
   "metadata": {},
   "outputs": [],
   "source": [
    "# Task 3b: Save the aggregated dataframe in task 3a above into CSV file without index (index=False) in the same folder as this file\n",
    "# The filename shall be your nickname + _avg_birth_by_generation.csv\n",
    "# Example: azhar_avg_birth_by_generation.csv\n",
    "# No space is allowed. But make sure your nickname is recognizable for evaluation.\n",
    "\n",
    "..."
   ]
  }
 ],
 "metadata": {
  "kernelspec": {
   "display_name": "python311env",
   "language": "python",
   "name": "python3"
  },
  "language_info": {
   "codemirror_mode": {
    "name": "ipython",
    "version": 3
   },
   "file_extension": ".py",
   "mimetype": "text/x-python",
   "name": "python",
   "nbconvert_exporter": "python",
   "pygments_lexer": "ipython3",
   "version": "3.12.3"
  }
 },
 "nbformat": 4,
 "nbformat_minor": 2
}
